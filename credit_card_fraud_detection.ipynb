{
  "nbformat": 4,
  "nbformat_minor": 0,
  "metadata": {
    "colab": {
      "provenance": []
    },
    "kernelspec": {
      "name": "python3",
      "display_name": "Python 3"
    },
    "language_info": {
      "name": "python"
    }
  },
  "cells": [
    {
      "cell_type": "code",
      "execution_count": null,
      "metadata": {
        "id": "y2xCnDoJsfKW"
      },
      "outputs": [],
      "source": [
        "import numpy as np\n",
        "import pandas as pd\n",
        "from sklearn.model_selection import train_test_split\n",
        "from sklearn.linear_model import LogisticRegression\n",
        "from sklearn.metrics import accuracy_score"
      ]
    },
    {
      "cell_type": "code",
      "source": [
        "# loading the dataset to a Pandas DataFrame\n",
        "credit_card_data = pd.read_csv('/content/creditcard.csv')"
      ],
      "metadata": {
        "id": "bvf8_UmYuUwG"
      },
      "execution_count": null,
      "outputs": []
    },
    {
      "cell_type": "code",
      "source": [
        "credit_card_data.info()"
      ],
      "metadata": {
        "id": "oFgfs-vHvH42",
        "colab": {
          "base_uri": "https://localhost:8080/"
        },
        "outputId": "0597cabf-2819-4479-8694-7dfed87dbc63"
      },
      "execution_count": null,
      "outputs": [
        {
          "output_type": "stream",
          "name": "stdout",
          "text": [
            "<class 'pandas.core.frame.DataFrame'>\n",
            "RangeIndex: 128821 entries, 0 to 128820\n",
            "Data columns (total 31 columns):\n",
            " #   Column  Non-Null Count   Dtype  \n",
            "---  ------  --------------   -----  \n",
            " 0   Time    128821 non-null  int64  \n",
            " 1   V1      128821 non-null  float64\n",
            " 2   V2      128821 non-null  float64\n",
            " 3   V3      128821 non-null  float64\n",
            " 4   V4      128821 non-null  float64\n",
            " 5   V5      128821 non-null  float64\n",
            " 6   V6      128821 non-null  float64\n",
            " 7   V7      128821 non-null  float64\n",
            " 8   V8      128821 non-null  float64\n",
            " 9   V9      128821 non-null  float64\n",
            " 10  V10     128821 non-null  float64\n",
            " 11  V11     128821 non-null  float64\n",
            " 12  V12     128821 non-null  float64\n",
            " 13  V13     128821 non-null  float64\n",
            " 14  V14     128821 non-null  float64\n",
            " 15  V15     128821 non-null  float64\n",
            " 16  V16     128820 non-null  float64\n",
            " 17  V17     128820 non-null  float64\n",
            " 18  V18     128820 non-null  float64\n",
            " 19  V19     128820 non-null  float64\n",
            " 20  V20     128820 non-null  float64\n",
            " 21  V21     128820 non-null  float64\n",
            " 22  V22     128820 non-null  float64\n",
            " 23  V23     128820 non-null  float64\n",
            " 24  V24     128820 non-null  float64\n",
            " 25  V25     128820 non-null  float64\n",
            " 26  V26     128820 non-null  float64\n",
            " 27  V27     128820 non-null  float64\n",
            " 28  V28     128820 non-null  float64\n",
            " 29  Amount  128820 non-null  float64\n",
            " 30  Class   128820 non-null  float64\n",
            "dtypes: float64(30), int64(1)\n",
            "memory usage: 30.5 MB\n"
          ]
        }
      ]
    },
    {
      "cell_type": "code",
      "source": [
        "credit_card_data.isnull().sum()"
      ],
      "metadata": {
        "id": "qdpUXhDtvNln",
        "colab": {
          "base_uri": "https://localhost:8080/"
        },
        "outputId": "c54778f2-6aa7-43ba-d181-9ea46121ce95"
      },
      "execution_count": null,
      "outputs": [
        {
          "output_type": "execute_result",
          "data": {
            "text/plain": [
              "Time      0\n",
              "V1        0\n",
              "V2        0\n",
              "V3        0\n",
              "V4        0\n",
              "V5        0\n",
              "V6        0\n",
              "V7        0\n",
              "V8        0\n",
              "V9        0\n",
              "V10       0\n",
              "V11       0\n",
              "V12       0\n",
              "V13       0\n",
              "V14       0\n",
              "V15       0\n",
              "V16       1\n",
              "V17       1\n",
              "V18       1\n",
              "V19       1\n",
              "V20       1\n",
              "V21       1\n",
              "V22       1\n",
              "V23       1\n",
              "V24       1\n",
              "V25       1\n",
              "V26       1\n",
              "V27       1\n",
              "V28       1\n",
              "Amount    1\n",
              "Class     1\n",
              "dtype: int64"
            ]
          },
          "metadata": {},
          "execution_count": 22
        }
      ]
    },
    {
      "cell_type": "code",
      "source": [
        "credit_card_data['Class'].value_counts()"
      ],
      "metadata": {
        "id": "_znnim4evSZv",
        "colab": {
          "base_uri": "https://localhost:8080/"
        },
        "outputId": "55eee329-eeaf-4b94-826e-bb796ccf07b0"
      },
      "execution_count": null,
      "outputs": [
        {
          "output_type": "execute_result",
          "data": {
            "text/plain": [
              "0.0    128559\n",
              "1.0       261\n",
              "Name: Class, dtype: int64"
            ]
          },
          "metadata": {},
          "execution_count": 53
        }
      ]
    },
    {
      "cell_type": "code",
      "source": [
        "legit = credit_card_data[credit_card_data.Class == 0]\n",
        "fraud = credit_card_data[credit_card_data.Class == 1]"
      ],
      "metadata": {
        "id": "GNxJWAHFwevo"
      },
      "execution_count": null,
      "outputs": []
    },
    {
      "cell_type": "code",
      "source": [
        "print(legit.shape)\n",
        "print(fraud.shape)"
      ],
      "metadata": {
        "id": "_HXy5vHEwiw-",
        "colab": {
          "base_uri": "https://localhost:8080/"
        },
        "outputId": "c4818a05-983f-4fcc-ed92-2bfcb0a21891"
      },
      "execution_count": null,
      "outputs": [
        {
          "output_type": "stream",
          "name": "stdout",
          "text": [
            "(128559, 31)\n",
            "(261, 31)\n"
          ]
        }
      ]
    },
    {
      "cell_type": "code",
      "source": [
        "legit.Amount.describe()"
      ],
      "metadata": {
        "id": "iBM17BmFws44",
        "colab": {
          "base_uri": "https://localhost:8080/"
        },
        "outputId": "9993e950-3912-43df-c11e-bfe011242ce5"
      },
      "execution_count": null,
      "outputs": [
        {
          "output_type": "execute_result",
          "data": {
            "text/plain": [
              "count    128559.000000\n",
              "mean         92.909269\n",
              "std         251.540738\n",
              "min           0.000000\n",
              "25%           6.500000\n",
              "50%          24.950000\n",
              "75%          83.190000\n",
              "max       19656.530000\n",
              "Name: Amount, dtype: float64"
            ]
          },
          "metadata": {},
          "execution_count": 26
        }
      ]
    },
    {
      "cell_type": "code",
      "source": [
        "fraud.Amount.describe()"
      ],
      "metadata": {
        "id": "vT9Dflbyww6_",
        "colab": {
          "base_uri": "https://localhost:8080/"
        },
        "outputId": "858a8f29-8f63-4369-ab2a-ae6e6f34c54d"
      },
      "execution_count": null,
      "outputs": [
        {
          "output_type": "execute_result",
          "data": {
            "text/plain": [
              "count     261.000000\n",
              "mean      116.679693\n",
              "std       246.300626\n",
              "min         0.000000\n",
              "25%         1.000000\n",
              "50%        11.380000\n",
              "75%        99.990000\n",
              "max      1809.680000\n",
              "Name: Amount, dtype: float64"
            ]
          },
          "metadata": {},
          "execution_count": 27
        }
      ]
    },
    {
      "cell_type": "code",
      "source": [
        "credit_card_data.groupby('Class').mean()"
      ],
      "metadata": {
        "id": "5yO18mM8w1v3",
        "colab": {
          "base_uri": "https://localhost:8080/",
          "height": 237
        },
        "outputId": "1e655e62-2027-40bf-ef46-8a1e9d405e3b"
      },
      "execution_count": null,
      "outputs": [
        {
          "output_type": "execute_result",
          "data": {
            "text/plain": [
              "               Time        V1        V2        V3        V4        V5  \\\n",
              "Class                                                                   \n",
              "0.0    49351.046259 -0.238744 -0.007156  0.691484  0.139340 -0.276329   \n",
              "1.0    41975.996169 -5.665868  3.973470 -7.225782  4.526519 -4.014566   \n",
              "\n",
              "             V6        V7        V8        V9  ...       V20       V21  \\\n",
              "Class                                          ...                       \n",
              "0.0    0.085922 -0.104433  0.059177 -0.083670  ...  0.042065 -0.039697   \n",
              "1.0   -1.501321 -5.982089  1.526847 -2.616088  ...  0.238243  1.271860   \n",
              "\n",
              "            V22       V23       V24       V25       V26       V27       V28  \\\n",
              "Class                                                                         \n",
              "0.0   -0.115701 -0.034179  0.012188  0.130042  0.025932 -0.000691  0.002019   \n",
              "1.0   -0.320923 -0.117196 -0.105943  0.199014  0.054738  0.492548  0.081347   \n",
              "\n",
              "           Amount  \n",
              "Class              \n",
              "0.0     92.909269  \n",
              "1.0    116.679693  \n",
              "\n",
              "[2 rows x 30 columns]"
            ],
            "text/html": [
              "\n",
              "  <div id=\"df-2e0a55cc-e978-463e-8006-c376c43a4f02\">\n",
              "    <div class=\"colab-df-container\">\n",
              "      <div>\n",
              "<style scoped>\n",
              "    .dataframe tbody tr th:only-of-type {\n",
              "        vertical-align: middle;\n",
              "    }\n",
              "\n",
              "    .dataframe tbody tr th {\n",
              "        vertical-align: top;\n",
              "    }\n",
              "\n",
              "    .dataframe thead th {\n",
              "        text-align: right;\n",
              "    }\n",
              "</style>\n",
              "<table border=\"1\" class=\"dataframe\">\n",
              "  <thead>\n",
              "    <tr style=\"text-align: right;\">\n",
              "      <th></th>\n",
              "      <th>Time</th>\n",
              "      <th>V1</th>\n",
              "      <th>V2</th>\n",
              "      <th>V3</th>\n",
              "      <th>V4</th>\n",
              "      <th>V5</th>\n",
              "      <th>V6</th>\n",
              "      <th>V7</th>\n",
              "      <th>V8</th>\n",
              "      <th>V9</th>\n",
              "      <th>...</th>\n",
              "      <th>V20</th>\n",
              "      <th>V21</th>\n",
              "      <th>V22</th>\n",
              "      <th>V23</th>\n",
              "      <th>V24</th>\n",
              "      <th>V25</th>\n",
              "      <th>V26</th>\n",
              "      <th>V27</th>\n",
              "      <th>V28</th>\n",
              "      <th>Amount</th>\n",
              "    </tr>\n",
              "    <tr>\n",
              "      <th>Class</th>\n",
              "      <th></th>\n",
              "      <th></th>\n",
              "      <th></th>\n",
              "      <th></th>\n",
              "      <th></th>\n",
              "      <th></th>\n",
              "      <th></th>\n",
              "      <th></th>\n",
              "      <th></th>\n",
              "      <th></th>\n",
              "      <th></th>\n",
              "      <th></th>\n",
              "      <th></th>\n",
              "      <th></th>\n",
              "      <th></th>\n",
              "      <th></th>\n",
              "      <th></th>\n",
              "      <th></th>\n",
              "      <th></th>\n",
              "      <th></th>\n",
              "      <th></th>\n",
              "    </tr>\n",
              "  </thead>\n",
              "  <tbody>\n",
              "    <tr>\n",
              "      <th>0.0</th>\n",
              "      <td>49351.046259</td>\n",
              "      <td>-0.238744</td>\n",
              "      <td>-0.007156</td>\n",
              "      <td>0.691484</td>\n",
              "      <td>0.139340</td>\n",
              "      <td>-0.276329</td>\n",
              "      <td>0.085922</td>\n",
              "      <td>-0.104433</td>\n",
              "      <td>0.059177</td>\n",
              "      <td>-0.083670</td>\n",
              "      <td>...</td>\n",
              "      <td>0.042065</td>\n",
              "      <td>-0.039697</td>\n",
              "      <td>-0.115701</td>\n",
              "      <td>-0.034179</td>\n",
              "      <td>0.012188</td>\n",
              "      <td>0.130042</td>\n",
              "      <td>0.025932</td>\n",
              "      <td>-0.000691</td>\n",
              "      <td>0.002019</td>\n",
              "      <td>92.909269</td>\n",
              "    </tr>\n",
              "    <tr>\n",
              "      <th>1.0</th>\n",
              "      <td>41975.996169</td>\n",
              "      <td>-5.665868</td>\n",
              "      <td>3.973470</td>\n",
              "      <td>-7.225782</td>\n",
              "      <td>4.526519</td>\n",
              "      <td>-4.014566</td>\n",
              "      <td>-1.501321</td>\n",
              "      <td>-5.982089</td>\n",
              "      <td>1.526847</td>\n",
              "      <td>-2.616088</td>\n",
              "      <td>...</td>\n",
              "      <td>0.238243</td>\n",
              "      <td>1.271860</td>\n",
              "      <td>-0.320923</td>\n",
              "      <td>-0.117196</td>\n",
              "      <td>-0.105943</td>\n",
              "      <td>0.199014</td>\n",
              "      <td>0.054738</td>\n",
              "      <td>0.492548</td>\n",
              "      <td>0.081347</td>\n",
              "      <td>116.679693</td>\n",
              "    </tr>\n",
              "  </tbody>\n",
              "</table>\n",
              "<p>2 rows × 30 columns</p>\n",
              "</div>\n",
              "      <button class=\"colab-df-convert\" onclick=\"convertToInteractive('df-2e0a55cc-e978-463e-8006-c376c43a4f02')\"\n",
              "              title=\"Convert this dataframe to an interactive table.\"\n",
              "              style=\"display:none;\">\n",
              "        \n",
              "  <svg xmlns=\"http://www.w3.org/2000/svg\" height=\"24px\"viewBox=\"0 0 24 24\"\n",
              "       width=\"24px\">\n",
              "    <path d=\"M0 0h24v24H0V0z\" fill=\"none\"/>\n",
              "    <path d=\"M18.56 5.44l.94 2.06.94-2.06 2.06-.94-2.06-.94-.94-2.06-.94 2.06-2.06.94zm-11 1L8.5 8.5l.94-2.06 2.06-.94-2.06-.94L8.5 2.5l-.94 2.06-2.06.94zm10 10l.94 2.06.94-2.06 2.06-.94-2.06-.94-.94-2.06-.94 2.06-2.06.94z\"/><path d=\"M17.41 7.96l-1.37-1.37c-.4-.4-.92-.59-1.43-.59-.52 0-1.04.2-1.43.59L10.3 9.45l-7.72 7.72c-.78.78-.78 2.05 0 2.83L4 21.41c.39.39.9.59 1.41.59.51 0 1.02-.2 1.41-.59l7.78-7.78 2.81-2.81c.8-.78.8-2.07 0-2.86zM5.41 20L4 18.59l7.72-7.72 1.47 1.35L5.41 20z\"/>\n",
              "  </svg>\n",
              "      </button>\n",
              "      \n",
              "  <style>\n",
              "    .colab-df-container {\n",
              "      display:flex;\n",
              "      flex-wrap:wrap;\n",
              "      gap: 12px;\n",
              "    }\n",
              "\n",
              "    .colab-df-convert {\n",
              "      background-color: #E8F0FE;\n",
              "      border: none;\n",
              "      border-radius: 50%;\n",
              "      cursor: pointer;\n",
              "      display: none;\n",
              "      fill: #1967D2;\n",
              "      height: 32px;\n",
              "      padding: 0 0 0 0;\n",
              "      width: 32px;\n",
              "    }\n",
              "\n",
              "    .colab-df-convert:hover {\n",
              "      background-color: #E2EBFA;\n",
              "      box-shadow: 0px 1px 2px rgba(60, 64, 67, 0.3), 0px 1px 3px 1px rgba(60, 64, 67, 0.15);\n",
              "      fill: #174EA6;\n",
              "    }\n",
              "\n",
              "    [theme=dark] .colab-df-convert {\n",
              "      background-color: #3B4455;\n",
              "      fill: #D2E3FC;\n",
              "    }\n",
              "\n",
              "    [theme=dark] .colab-df-convert:hover {\n",
              "      background-color: #434B5C;\n",
              "      box-shadow: 0px 1px 3px 1px rgba(0, 0, 0, 0.15);\n",
              "      filter: drop-shadow(0px 1px 2px rgba(0, 0, 0, 0.3));\n",
              "      fill: #FFFFFF;\n",
              "    }\n",
              "  </style>\n",
              "\n",
              "      <script>\n",
              "        const buttonEl =\n",
              "          document.querySelector('#df-2e0a55cc-e978-463e-8006-c376c43a4f02 button.colab-df-convert');\n",
              "        buttonEl.style.display =\n",
              "          google.colab.kernel.accessAllowed ? 'block' : 'none';\n",
              "\n",
              "        async function convertToInteractive(key) {\n",
              "          const element = document.querySelector('#df-2e0a55cc-e978-463e-8006-c376c43a4f02');\n",
              "          const dataTable =\n",
              "            await google.colab.kernel.invokeFunction('convertToInteractive',\n",
              "                                                     [key], {});\n",
              "          if (!dataTable) return;\n",
              "\n",
              "          const docLinkHtml = 'Like what you see? Visit the ' +\n",
              "            '<a target=\"_blank\" href=https://colab.research.google.com/notebooks/data_table.ipynb>data table notebook</a>'\n",
              "            + ' to learn more about interactive tables.';\n",
              "          element.innerHTML = '';\n",
              "          dataTable['output_type'] = 'display_data';\n",
              "          await google.colab.output.renderOutput(dataTable, element);\n",
              "          const docLink = document.createElement('div');\n",
              "          docLink.innerHTML = docLinkHtml;\n",
              "          element.appendChild(docLink);\n",
              "        }\n",
              "      </script>\n",
              "    </div>\n",
              "  </div>\n",
              "  "
            ]
          },
          "metadata": {},
          "execution_count": 28
        }
      ]
    },
    {
      "cell_type": "code",
      "source": [
        "legit_sample = legit.sample(n=261)"
      ],
      "metadata": {
        "id": "ltNTqsTqw6g_"
      },
      "execution_count": null,
      "outputs": []
    },
    {
      "cell_type": "code",
      "source": [
        "new_dataset = pd.concat([legit_sample, fraud], axis=0)"
      ],
      "metadata": {
        "id": "NnJE9gsnw9ZX"
      },
      "execution_count": null,
      "outputs": []
    },
    {
      "cell_type": "code",
      "source": [
        "new_dataset['Class'].value_counts()"
      ],
      "metadata": {
        "id": "EYtxYswnxHIV",
        "colab": {
          "base_uri": "https://localhost:8080/"
        },
        "outputId": "2c8af41c-26d1-460f-d2ca-8f49d978d68a"
      },
      "execution_count": null,
      "outputs": [
        {
          "output_type": "execute_result",
          "data": {
            "text/plain": [
              "0.0    261\n",
              "1.0    261\n",
              "Name: Class, dtype: int64"
            ]
          },
          "metadata": {},
          "execution_count": 57
        }
      ]
    },
    {
      "cell_type": "code",
      "source": [
        "new_dataset.groupby('Class').mean()"
      ],
      "metadata": {
        "id": "Akw7UbyJxKPE",
        "colab": {
          "base_uri": "https://localhost:8080/",
          "height": 237
        },
        "outputId": "573a3168-15c9-4dce-83e5-d1af29989ef5"
      },
      "execution_count": null,
      "outputs": [
        {
          "output_type": "execute_result",
          "data": {
            "text/plain": [
              "               Time        V1        V2        V3        V4        V5  \\\n",
              "Class                                                                   \n",
              "0.0    47312.191571 -0.018547 -0.113878  0.674954  0.203367 -0.142208   \n",
              "1.0    41975.996169 -5.665868  3.973470 -7.225782  4.526519 -4.014566   \n",
              "\n",
              "             V6        V7        V8        V9  ...       V20       V21  \\\n",
              "Class                                          ...                       \n",
              "0.0    0.188021 -0.043666  0.105041 -0.089827  ...  0.083224 -0.016099   \n",
              "1.0   -1.501321 -5.982089  1.526847 -2.616088  ...  0.238243  1.271860   \n",
              "\n",
              "            V22       V23       V24       V25       V26       V27       V28  \\\n",
              "Class                                                                         \n",
              "0.0   -0.141551 -0.010878  0.077004  0.175898  0.016876  0.021603  0.019003   \n",
              "1.0   -0.320923 -0.117196 -0.105943  0.199014  0.054738  0.492548  0.081347   \n",
              "\n",
              "           Amount  \n",
              "Class              \n",
              "0.0     99.546284  \n",
              "1.0    116.679693  \n",
              "\n",
              "[2 rows x 30 columns]"
            ],
            "text/html": [
              "\n",
              "  <div id=\"df-5b945509-30db-4c89-a8bd-36607b9926cd\">\n",
              "    <div class=\"colab-df-container\">\n",
              "      <div>\n",
              "<style scoped>\n",
              "    .dataframe tbody tr th:only-of-type {\n",
              "        vertical-align: middle;\n",
              "    }\n",
              "\n",
              "    .dataframe tbody tr th {\n",
              "        vertical-align: top;\n",
              "    }\n",
              "\n",
              "    .dataframe thead th {\n",
              "        text-align: right;\n",
              "    }\n",
              "</style>\n",
              "<table border=\"1\" class=\"dataframe\">\n",
              "  <thead>\n",
              "    <tr style=\"text-align: right;\">\n",
              "      <th></th>\n",
              "      <th>Time</th>\n",
              "      <th>V1</th>\n",
              "      <th>V2</th>\n",
              "      <th>V3</th>\n",
              "      <th>V4</th>\n",
              "      <th>V5</th>\n",
              "      <th>V6</th>\n",
              "      <th>V7</th>\n",
              "      <th>V8</th>\n",
              "      <th>V9</th>\n",
              "      <th>...</th>\n",
              "      <th>V20</th>\n",
              "      <th>V21</th>\n",
              "      <th>V22</th>\n",
              "      <th>V23</th>\n",
              "      <th>V24</th>\n",
              "      <th>V25</th>\n",
              "      <th>V26</th>\n",
              "      <th>V27</th>\n",
              "      <th>V28</th>\n",
              "      <th>Amount</th>\n",
              "    </tr>\n",
              "    <tr>\n",
              "      <th>Class</th>\n",
              "      <th></th>\n",
              "      <th></th>\n",
              "      <th></th>\n",
              "      <th></th>\n",
              "      <th></th>\n",
              "      <th></th>\n",
              "      <th></th>\n",
              "      <th></th>\n",
              "      <th></th>\n",
              "      <th></th>\n",
              "      <th></th>\n",
              "      <th></th>\n",
              "      <th></th>\n",
              "      <th></th>\n",
              "      <th></th>\n",
              "      <th></th>\n",
              "      <th></th>\n",
              "      <th></th>\n",
              "      <th></th>\n",
              "      <th></th>\n",
              "      <th></th>\n",
              "    </tr>\n",
              "  </thead>\n",
              "  <tbody>\n",
              "    <tr>\n",
              "      <th>0.0</th>\n",
              "      <td>47312.191571</td>\n",
              "      <td>-0.018547</td>\n",
              "      <td>-0.113878</td>\n",
              "      <td>0.674954</td>\n",
              "      <td>0.203367</td>\n",
              "      <td>-0.142208</td>\n",
              "      <td>0.188021</td>\n",
              "      <td>-0.043666</td>\n",
              "      <td>0.105041</td>\n",
              "      <td>-0.089827</td>\n",
              "      <td>...</td>\n",
              "      <td>0.083224</td>\n",
              "      <td>-0.016099</td>\n",
              "      <td>-0.141551</td>\n",
              "      <td>-0.010878</td>\n",
              "      <td>0.077004</td>\n",
              "      <td>0.175898</td>\n",
              "      <td>0.016876</td>\n",
              "      <td>0.021603</td>\n",
              "      <td>0.019003</td>\n",
              "      <td>99.546284</td>\n",
              "    </tr>\n",
              "    <tr>\n",
              "      <th>1.0</th>\n",
              "      <td>41975.996169</td>\n",
              "      <td>-5.665868</td>\n",
              "      <td>3.973470</td>\n",
              "      <td>-7.225782</td>\n",
              "      <td>4.526519</td>\n",
              "      <td>-4.014566</td>\n",
              "      <td>-1.501321</td>\n",
              "      <td>-5.982089</td>\n",
              "      <td>1.526847</td>\n",
              "      <td>-2.616088</td>\n",
              "      <td>...</td>\n",
              "      <td>0.238243</td>\n",
              "      <td>1.271860</td>\n",
              "      <td>-0.320923</td>\n",
              "      <td>-0.117196</td>\n",
              "      <td>-0.105943</td>\n",
              "      <td>0.199014</td>\n",
              "      <td>0.054738</td>\n",
              "      <td>0.492548</td>\n",
              "      <td>0.081347</td>\n",
              "      <td>116.679693</td>\n",
              "    </tr>\n",
              "  </tbody>\n",
              "</table>\n",
              "<p>2 rows × 30 columns</p>\n",
              "</div>\n",
              "      <button class=\"colab-df-convert\" onclick=\"convertToInteractive('df-5b945509-30db-4c89-a8bd-36607b9926cd')\"\n",
              "              title=\"Convert this dataframe to an interactive table.\"\n",
              "              style=\"display:none;\">\n",
              "        \n",
              "  <svg xmlns=\"http://www.w3.org/2000/svg\" height=\"24px\"viewBox=\"0 0 24 24\"\n",
              "       width=\"24px\">\n",
              "    <path d=\"M0 0h24v24H0V0z\" fill=\"none\"/>\n",
              "    <path d=\"M18.56 5.44l.94 2.06.94-2.06 2.06-.94-2.06-.94-.94-2.06-.94 2.06-2.06.94zm-11 1L8.5 8.5l.94-2.06 2.06-.94-2.06-.94L8.5 2.5l-.94 2.06-2.06.94zm10 10l.94 2.06.94-2.06 2.06-.94-2.06-.94-.94-2.06-.94 2.06-2.06.94z\"/><path d=\"M17.41 7.96l-1.37-1.37c-.4-.4-.92-.59-1.43-.59-.52 0-1.04.2-1.43.59L10.3 9.45l-7.72 7.72c-.78.78-.78 2.05 0 2.83L4 21.41c.39.39.9.59 1.41.59.51 0 1.02-.2 1.41-.59l7.78-7.78 2.81-2.81c.8-.78.8-2.07 0-2.86zM5.41 20L4 18.59l7.72-7.72 1.47 1.35L5.41 20z\"/>\n",
              "  </svg>\n",
              "      </button>\n",
              "      \n",
              "  <style>\n",
              "    .colab-df-container {\n",
              "      display:flex;\n",
              "      flex-wrap:wrap;\n",
              "      gap: 12px;\n",
              "    }\n",
              "\n",
              "    .colab-df-convert {\n",
              "      background-color: #E8F0FE;\n",
              "      border: none;\n",
              "      border-radius: 50%;\n",
              "      cursor: pointer;\n",
              "      display: none;\n",
              "      fill: #1967D2;\n",
              "      height: 32px;\n",
              "      padding: 0 0 0 0;\n",
              "      width: 32px;\n",
              "    }\n",
              "\n",
              "    .colab-df-convert:hover {\n",
              "      background-color: #E2EBFA;\n",
              "      box-shadow: 0px 1px 2px rgba(60, 64, 67, 0.3), 0px 1px 3px 1px rgba(60, 64, 67, 0.15);\n",
              "      fill: #174EA6;\n",
              "    }\n",
              "\n",
              "    [theme=dark] .colab-df-convert {\n",
              "      background-color: #3B4455;\n",
              "      fill: #D2E3FC;\n",
              "    }\n",
              "\n",
              "    [theme=dark] .colab-df-convert:hover {\n",
              "      background-color: #434B5C;\n",
              "      box-shadow: 0px 1px 3px 1px rgba(0, 0, 0, 0.15);\n",
              "      filter: drop-shadow(0px 1px 2px rgba(0, 0, 0, 0.3));\n",
              "      fill: #FFFFFF;\n",
              "    }\n",
              "  </style>\n",
              "\n",
              "      <script>\n",
              "        const buttonEl =\n",
              "          document.querySelector('#df-5b945509-30db-4c89-a8bd-36607b9926cd button.colab-df-convert');\n",
              "        buttonEl.style.display =\n",
              "          google.colab.kernel.accessAllowed ? 'block' : 'none';\n",
              "\n",
              "        async function convertToInteractive(key) {\n",
              "          const element = document.querySelector('#df-5b945509-30db-4c89-a8bd-36607b9926cd');\n",
              "          const dataTable =\n",
              "            await google.colab.kernel.invokeFunction('convertToInteractive',\n",
              "                                                     [key], {});\n",
              "          if (!dataTable) return;\n",
              "\n",
              "          const docLinkHtml = 'Like what you see? Visit the ' +\n",
              "            '<a target=\"_blank\" href=https://colab.research.google.com/notebooks/data_table.ipynb>data table notebook</a>'\n",
              "            + ' to learn more about interactive tables.';\n",
              "          element.innerHTML = '';\n",
              "          dataTable['output_type'] = 'display_data';\n",
              "          await google.colab.output.renderOutput(dataTable, element);\n",
              "          const docLink = document.createElement('div');\n",
              "          docLink.innerHTML = docLinkHtml;\n",
              "          element.appendChild(docLink);\n",
              "        }\n",
              "      </script>\n",
              "    </div>\n",
              "  </div>\n",
              "  "
            ]
          },
          "metadata": {},
          "execution_count": 58
        }
      ]
    },
    {
      "cell_type": "code",
      "source": [
        "X = new_dataset.drop(columns='Class', axis=1)\n",
        "Y = new_dataset['Class']"
      ],
      "metadata": {
        "id": "sMiqj_9jxLRs"
      },
      "execution_count": null,
      "outputs": []
    },
    {
      "cell_type": "code",
      "source": [
        "print(X)"
      ],
      "metadata": {
        "id": "3_Cn-U54xNvW",
        "colab": {
          "base_uri": "https://localhost:8080/"
        },
        "outputId": "599ff0a0-c93e-4bf3-9b74-cf1ef86d8f5b"
      },
      "execution_count": null,
      "outputs": [
        {
          "output_type": "stream",
          "name": "stdout",
          "text": [
            "         Time        V1        V2        V3        V4        V5        V6  \\\n",
            "68670   53090  1.191449 -0.042985  0.839853  0.945714 -0.272046  0.808621   \n",
            "125157  77553  1.219013 -0.887890  0.697641 -0.708644 -1.352628 -0.279978   \n",
            "21418   31651  1.121702  0.373426  0.281198  1.264172 -0.091162 -0.772645   \n",
            "14328   25410 -1.902767 -0.677378  3.056575 -1.447365 -0.577530  0.688135   \n",
            "7266     9659  1.173540  0.372273  0.440919  0.729904 -0.045515 -0.227947   \n",
            "...       ...       ...       ...       ...       ...       ...       ...   \n",
            "124087  77171  1.118560  1.291858 -1.298805  2.135772  0.772204 -1.147291   \n",
            "124115  77182 -1.410852  2.268271 -2.297554  1.871331  0.248957 -1.208799   \n",
            "124176  77202 -0.356326  1.435305 -0.813564  1.993117  2.055878 -0.543579   \n",
            "125342  77627 -7.139060  2.773082 -6.757845  4.446456 -5.464428 -1.713401   \n",
            "128479  78725 -4.312479  1.886476 -2.338634 -0.475243 -1.185444 -2.112079   \n",
            "\n",
            "              V7        V8        V9  ...       V20       V21       V22  \\\n",
            "68670  -0.619338  0.255105  0.562925  ... -0.021320 -0.075626  0.005624   \n",
            "125157 -0.887078  0.090244 -0.714289  ... -0.353355 -0.413089 -0.940833   \n",
            "21418   0.413584 -0.161961 -0.295579  ... -0.129569 -0.322500 -0.995444   \n",
            "14328  -0.783611 -0.544162  0.290397  ... -1.083419  0.374362 -0.384615   \n",
            "7266   -0.182682 -0.001934  1.044993  ... -0.140675 -0.358274 -0.784844   \n",
            "...          ...       ...       ...  ...       ...       ...       ...   \n",
            "124087  0.390578 -0.107072 -0.038339  ... -0.023576 -0.346374 -0.663588   \n",
            "124115 -1.358648  1.102916 -1.317364  ...  0.058063  0.155381 -0.614880   \n",
            "124176  0.487691  0.085449 -0.536352  ...  0.303262 -0.312863 -0.687874   \n",
            "125342 -6.485365  3.409395 -3.053493  ... -0.616949  1.303250 -0.016118   \n",
            "128479 -2.122793  0.272565  0.290273  ... -0.718706  0.550541 -0.067870   \n",
            "\n",
            "             V23       V24       V25       V26       V27       V28  Amount  \n",
            "68670  -0.173916 -0.813070  0.573329 -0.357077  0.073537  0.018421    9.99  \n",
            "125157  0.103265 -0.001700 -0.123579  0.854816 -0.050653  0.017556   70.99  \n",
            "21418   0.190441  0.347615  0.271562 -0.719535  0.013689  0.029304   34.40  \n",
            "14328  -0.061723  0.083977  0.120768  0.344727 -0.281862 -0.035422   39.70  \n",
            "7266    0.157089 -0.081604  0.092507  0.068033 -0.036745  0.010922    1.79  \n",
            "...          ...       ...       ...       ...       ...       ...     ...  \n",
            "124087 -0.102326  0.017911  0.650302 -0.332366  0.105949  0.128124    1.00  \n",
            "124115 -0.196126 -0.464376  0.118473 -0.484537  0.373596  0.187657    1.00  \n",
            "124176 -0.267003 -1.158480  0.271460 -0.155397  0.114328  0.101526    1.00  \n",
            "125342 -0.876670  0.382230 -1.054624 -0.614606 -0.766848  0.409424  106.90  \n",
            "128479 -1.114692  0.269069 -0.020572 -0.963489 -0.918888  0.001454   60.00  \n",
            "\n",
            "[753 rows x 30 columns]\n"
          ]
        }
      ]
    },
    {
      "cell_type": "code",
      "source": [
        "print(Y)"
      ],
      "metadata": {
        "id": "VdtJRYOFxQmv",
        "colab": {
          "base_uri": "https://localhost:8080/"
        },
        "outputId": "c017c339-3b65-4d77-b5cd-8e0a76506924"
      },
      "execution_count": null,
      "outputs": [
        {
          "output_type": "stream",
          "name": "stdout",
          "text": [
            "68670     0.0\n",
            "125157    0.0\n",
            "21418     0.0\n",
            "14328     0.0\n",
            "7266      0.0\n",
            "         ... \n",
            "124087    1.0\n",
            "124115    1.0\n",
            "124176    1.0\n",
            "125342    1.0\n",
            "128479    1.0\n",
            "Name: Class, Length: 753, dtype: float64\n"
          ]
        }
      ]
    },
    {
      "cell_type": "code",
      "source": [
        "X_train, X_test, Y_train, Y_test = train_test_split(X, Y, test_size=0.2)"
      ],
      "metadata": {
        "id": "JiSGWvJJxUnf"
      },
      "execution_count": null,
      "outputs": []
    },
    {
      "cell_type": "code",
      "source": [
        "print(X.shape, X_train.shape, X_test.shape)"
      ],
      "metadata": {
        "id": "xKMCe2kWxYD3",
        "colab": {
          "base_uri": "https://localhost:8080/"
        },
        "outputId": "d2e8d821-600a-43af-d510-eb5a1f8305bd"
      },
      "execution_count": null,
      "outputs": [
        {
          "output_type": "stream",
          "name": "stdout",
          "text": [
            "(522, 30) (417, 30) (105, 30)\n"
          ]
        }
      ]
    },
    {
      "cell_type": "code",
      "source": [
        "model = LogisticRegression()"
      ],
      "metadata": {
        "id": "aAzNsNt0xc43"
      },
      "execution_count": null,
      "outputs": []
    },
    {
      "cell_type": "code",
      "source": [
        "model.fit(X_train, Y_train)"
      ],
      "metadata": {
        "id": "AhhlsJ9tzKWA",
        "outputId": "90b346cf-12fe-4ac8-846d-8d4a5aab4e39",
        "colab": {
          "base_uri": "https://localhost:8080/",
          "height": 214
        }
      },
      "execution_count": null,
      "outputs": [
        {
          "output_type": "stream",
          "name": "stderr",
          "text": [
            "/usr/local/lib/python3.10/dist-packages/sklearn/linear_model/_logistic.py:458: ConvergenceWarning: lbfgs failed to converge (status=1):\n",
            "STOP: TOTAL NO. of ITERATIONS REACHED LIMIT.\n",
            "\n",
            "Increase the number of iterations (max_iter) or scale the data as shown in:\n",
            "    https://scikit-learn.org/stable/modules/preprocessing.html\n",
            "Please also refer to the documentation for alternative solver options:\n",
            "    https://scikit-learn.org/stable/modules/linear_model.html#logistic-regression\n",
            "  n_iter_i = _check_optimize_result(\n"
          ]
        },
        {
          "output_type": "execute_result",
          "data": {
            "text/plain": [
              "LogisticRegression()"
            ],
            "text/html": [
              "<style>#sk-container-id-3 {color: black;background-color: white;}#sk-container-id-3 pre{padding: 0;}#sk-container-id-3 div.sk-toggleable {background-color: white;}#sk-container-id-3 label.sk-toggleable__label {cursor: pointer;display: block;width: 100%;margin-bottom: 0;padding: 0.3em;box-sizing: border-box;text-align: center;}#sk-container-id-3 label.sk-toggleable__label-arrow:before {content: \"▸\";float: left;margin-right: 0.25em;color: #696969;}#sk-container-id-3 label.sk-toggleable__label-arrow:hover:before {color: black;}#sk-container-id-3 div.sk-estimator:hover label.sk-toggleable__label-arrow:before {color: black;}#sk-container-id-3 div.sk-toggleable__content {max-height: 0;max-width: 0;overflow: hidden;text-align: left;background-color: #f0f8ff;}#sk-container-id-3 div.sk-toggleable__content pre {margin: 0.2em;color: black;border-radius: 0.25em;background-color: #f0f8ff;}#sk-container-id-3 input.sk-toggleable__control:checked~div.sk-toggleable__content {max-height: 200px;max-width: 100%;overflow: auto;}#sk-container-id-3 input.sk-toggleable__control:checked~label.sk-toggleable__label-arrow:before {content: \"▾\";}#sk-container-id-3 div.sk-estimator input.sk-toggleable__control:checked~label.sk-toggleable__label {background-color: #d4ebff;}#sk-container-id-3 div.sk-label input.sk-toggleable__control:checked~label.sk-toggleable__label {background-color: #d4ebff;}#sk-container-id-3 input.sk-hidden--visually {border: 0;clip: rect(1px 1px 1px 1px);clip: rect(1px, 1px, 1px, 1px);height: 1px;margin: -1px;overflow: hidden;padding: 0;position: absolute;width: 1px;}#sk-container-id-3 div.sk-estimator {font-family: monospace;background-color: #f0f8ff;border: 1px dotted black;border-radius: 0.25em;box-sizing: border-box;margin-bottom: 0.5em;}#sk-container-id-3 div.sk-estimator:hover {background-color: #d4ebff;}#sk-container-id-3 div.sk-parallel-item::after {content: \"\";width: 100%;border-bottom: 1px solid gray;flex-grow: 1;}#sk-container-id-3 div.sk-label:hover label.sk-toggleable__label {background-color: #d4ebff;}#sk-container-id-3 div.sk-serial::before {content: \"\";position: absolute;border-left: 1px solid gray;box-sizing: border-box;top: 0;bottom: 0;left: 50%;z-index: 0;}#sk-container-id-3 div.sk-serial {display: flex;flex-direction: column;align-items: center;background-color: white;padding-right: 0.2em;padding-left: 0.2em;position: relative;}#sk-container-id-3 div.sk-item {position: relative;z-index: 1;}#sk-container-id-3 div.sk-parallel {display: flex;align-items: stretch;justify-content: center;background-color: white;position: relative;}#sk-container-id-3 div.sk-item::before, #sk-container-id-3 div.sk-parallel-item::before {content: \"\";position: absolute;border-left: 1px solid gray;box-sizing: border-box;top: 0;bottom: 0;left: 50%;z-index: -1;}#sk-container-id-3 div.sk-parallel-item {display: flex;flex-direction: column;z-index: 1;position: relative;background-color: white;}#sk-container-id-3 div.sk-parallel-item:first-child::after {align-self: flex-end;width: 50%;}#sk-container-id-3 div.sk-parallel-item:last-child::after {align-self: flex-start;width: 50%;}#sk-container-id-3 div.sk-parallel-item:only-child::after {width: 0;}#sk-container-id-3 div.sk-dashed-wrapped {border: 1px dashed gray;margin: 0 0.4em 0.5em 0.4em;box-sizing: border-box;padding-bottom: 0.4em;background-color: white;}#sk-container-id-3 div.sk-label label {font-family: monospace;font-weight: bold;display: inline-block;line-height: 1.2em;}#sk-container-id-3 div.sk-label-container {text-align: center;}#sk-container-id-3 div.sk-container {/* jupyter's `normalize.less` sets `[hidden] { display: none; }` but bootstrap.min.css set `[hidden] { display: none !important; }` so we also need the `!important` here to be able to override the default hidden behavior on the sphinx rendered scikit-learn.org. See: https://github.com/scikit-learn/scikit-learn/issues/21755 */display: inline-block !important;position: relative;}#sk-container-id-3 div.sk-text-repr-fallback {display: none;}</style><div id=\"sk-container-id-3\" class=\"sk-top-container\"><div class=\"sk-text-repr-fallback\"><pre>LogisticRegression()</pre><b>In a Jupyter environment, please rerun this cell to show the HTML representation or trust the notebook. <br />On GitHub, the HTML representation is unable to render, please try loading this page with nbviewer.org.</b></div><div class=\"sk-container\" hidden><div class=\"sk-item\"><div class=\"sk-estimator sk-toggleable\"><input class=\"sk-toggleable__control sk-hidden--visually\" id=\"sk-estimator-id-3\" type=\"checkbox\" checked><label for=\"sk-estimator-id-3\" class=\"sk-toggleable__label sk-toggleable__label-arrow\">LogisticRegression</label><div class=\"sk-toggleable__content\"><pre>LogisticRegression()</pre></div></div></div></div></div>"
            ]
          },
          "metadata": {},
          "execution_count": 70
        }
      ]
    },
    {
      "cell_type": "code",
      "source": [
        "X_train_prediction = model.predict(X_train)\n",
        "training_data_accuracy = accuracy_score(X_train_prediction, Y_train)"
      ],
      "metadata": {
        "id": "gX2zVwcIxzqt"
      },
      "execution_count": null,
      "outputs": []
    },
    {
      "cell_type": "code",
      "source": [
        "print('Accuracy on Training data : ', training_data_accuracy)"
      ],
      "metadata": {
        "colab": {
          "base_uri": "https://localhost:8080/"
        },
        "id": "rgmfyV85x6L4",
        "outputId": "824e607f-dfa6-47f2-e7e8-af1d8e1eeba1"
      },
      "execution_count": null,
      "outputs": [
        {
          "output_type": "stream",
          "name": "stdout",
          "text": [
            "Accuracy on Training data :  0.9376498800959233\n"
          ]
        }
      ]
    },
    {
      "cell_type": "code",
      "source": [
        "X_test_prediction = model.predict(X_test)\n",
        "test_data_accuracy = accuracy_score(X_test_prediction, Y_test)"
      ],
      "metadata": {
        "id": "LT6_eEzsx7P-"
      },
      "execution_count": null,
      "outputs": []
    },
    {
      "cell_type": "code",
      "source": [
        "print('Accuracy score on Test Data : ', test_data_accuracy)"
      ],
      "metadata": {
        "id": "ut08gkJwx7RQ",
        "colab": {
          "base_uri": "https://localhost:8080/"
        },
        "outputId": "fc139d58-81ba-4851-dedd-20e783b30d2c"
      },
      "execution_count": null,
      "outputs": [
        {
          "output_type": "stream",
          "name": "stdout",
          "text": [
            "Accuracy score on Test Data :  0.9714285714285714\n"
          ]
        }
      ]
    }
  ]
}